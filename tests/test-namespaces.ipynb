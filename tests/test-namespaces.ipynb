{
 "cells": [
  {
   "cell_type": "code",
   "execution_count": 1,
   "metadata": {},
   "outputs": [],
   "source": [
    "#constellate: setup\n",
    "import numpy as np\n",
    "from scipy import stats\n",
    "import matplotlib.pyplot as plt"
   ]
  },
  {
   "cell_type": "markdown",
   "metadata": {},
   "source": [
    "This tests whether we can grab the global state and keep it inside function calls."
   ]
  },
  {
   "cell_type": "code",
   "execution_count": 2,
   "metadata": {},
   "outputs": [
    {
     "name": "stdout",
     "output_type": "stream",
     "text": [
      "Testing if stdout works when running in Constellate\n"
     ]
    },
    {
     "data": {
      "image/png": "[encoded data removed]",
      "text/plain": [
       "<Figure size 432x288 with 1 Axes>"
      ]
     },
     "metadata": {
      "needs_background": "light"
     },
     "output_type": "display_data"
    }
   ],
   "source": [
    "def f():\n",
    "    def g():\n",
    "        q = stats.norm.rvs(size=10)\n",
    "        return q\n",
    "\n",
    "    r = stats.norm.rvs(size=10)\n",
    "    return stats.norm.rvs(size=10)\n",
    "\n",
    "print('Testing if stdout works when running in Constellate')\n",
    "plt.plot(np.arange(10), f());"
   ]
  },
  {
   "cell_type": "code",
   "execution_count": 12,
   "metadata": {},
   "outputs": [],
   "source": [
    "#constellate: setup\n",
    "\n",
    "def prop(x):\n",
    "    print(globals().keys())\n",
    "    return stats.norm(loc=x, scale=1).rvs()"
   ]
  },
  {
   "cell_type": "markdown",
   "metadata": {},
   "source": [
    "This tests how setup works with lambdas and whether they can appropriately use namespaces."
   ]
  },
  {
   "cell_type": "code",
   "execution_count": 13,
   "metadata": {},
   "outputs": [
    {
     "name": "stdout",
     "output_type": "stream",
     "text": [
      "dict_keys(['__name__', '__doc__', '__package__', '__loader__', '__spec__', '__builtin__', '__builtins__', '_ih', '_oh', '_dh', 'In', 'Out', 'get_ipython', 'exit', 'quit', '_', '__', '___', 'sys', '_i', '_ii', '_iii', '_i1', 'np', 'stats', 'plt', 'site', 'os', '__vsc_ipynb_file__', '_i2', 'f', '_i3', 'prop', '_i4', '_4', '_i5', '_5', '_i6', '_6', '_i7', 'fun', '_i8', '_i9', '_i10', 'y', '_i11', '_i12', '_i13'])\n",
      "{'x': 1}\n",
      "dict_keys(['__name__', '__doc__', '__package__', '__loader__', '__spec__', '__builtin__', '__builtins__', '_ih', '_oh', '_dh', 'In', 'Out', 'get_ipython', 'exit', 'quit', '_', '__', '___', 'sys', '_i', '_ii', '_iii', '_i1', 'np', 'stats', 'plt', 'site', 'os', '__vsc_ipynb_file__', '_i2', 'f', '_i3', 'prop', '_i4', '_4', '_i5', '_5', '_i6', '_6', '_i7', 'fun', '_i8', '_i9', '_i10', 'y', '_i11', '_i12', '_i13'])\n",
      "{'x': 2}\n"
     ]
    },
    {
     "data": {
      "text/plain": [
       "[<matplotlib.lines.Line2D at 0x7f6fd5ef5e10>]"
      ]
     },
     "execution_count": 13,
     "metadata": {},
     "output_type": "execute_result"
    },
    {
     "data": {
      "image/png": "[encoded data removed]",
      "text/plain": [
       "<Figure size 432x288 with 1 Axes>"
      ]
     },
     "metadata": {
      "needs_background": "light"
     },
     "output_type": "display_data"
    }
   ],
   "source": [
    "plt.plot([0, 1], [prop(1), prop(2)])"
   ]
  },
  {
   "cell_type": "code",
   "execution_count": 65,
   "metadata": {},
   "outputs": [
    {
     "name": "stdout",
     "output_type": "stream",
     "text": [
      "3\n",
      "3\n",
      "2\n",
      "1\n",
      "1\n",
      "1\n",
      "1\n",
      "1\n"
     ]
    },
    {
     "ename": "NameError",
     "evalue": "name 'print' is not defined",
     "output_type": "error",
     "traceback": [
      "\u001b[0;31m---------------------------------------------------------------------------\u001b[0m",
      "\u001b[0;31mNameError\u001b[0m                                 Traceback (most recent call last)",
      "\u001b[0;32m/tmp/ipykernel_248333/2980363775.py\u001b[0m in \u001b[0;36m<module>\u001b[0;34m\u001b[0m\n\u001b[1;32m     34\u001b[0m exec('''\n\u001b[1;32m     35\u001b[0m \u001b[0mprint\u001b[0m\u001b[0;34m(\u001b[0m\u001b[0mprop\u001b[0m\u001b[0;34m(\u001b[0m\u001b[0;36m1\u001b[0m\u001b[0;34m)\u001b[0m\u001b[0;34m)\u001b[0m\u001b[0;34m\u001b[0m\u001b[0;34m\u001b[0m\u001b[0m\n\u001b[0;32m---> 36\u001b[0;31m ''', s)\n\u001b[0m",
      "\u001b[0;32m<string>\u001b[0m in \u001b[0;36m<module>\u001b[0;34m\u001b[0m\n",
      "\u001b[0;32m<string>\u001b[0m in \u001b[0;36mprop\u001b[0;34m(x)\u001b[0m\n",
      "\u001b[0;31mNameError\u001b[0m: name 'print' is not defined"
     ]
    }
   ],
   "source": [
    "#constellate: ignore\n",
    "\n",
    "g = {}\n",
    "\n",
    "exec('''\n",
    "from scipy import stats\n",
    "''', g)\n",
    "\n",
    "exec('''\n",
    "def prop(x):\n",
    "    print(globals().keys())\n",
    "    return stats.norm(loc=x, scale=1).rvs()\n",
    "''', g)\n",
    "\n",
    "print(len(g['prop'].__globals__))\n",
    "\n",
    "from types import ModuleType, FunctionType\n",
    "mods = {}\n",
    "for k in list(g.keys()):\n",
    "    if isinstance(g[k], ModuleType) or k == \"__builtins__\":\n",
    "        mods[k] = g.pop(k)\n",
    "\n",
    "print(len(g['prop'].__globals__))\n",
    "\n",
    "func_globals = {}\n",
    "\n",
    "s = mods\n",
    "print(len(g['prop'].__globals__))\n",
    "s.update(g)\n",
    "print(len(s['prop'].__globals__))\n",
    "print(len(g['prop'].__globals__))\n",
    "\n",
    "exec('''\n",
    "print(prop(1))\n",
    "''', s)\n"
   ]
  },
  {
   "cell_type": "code",
   "execution_count": null,
   "metadata": {},
   "outputs": [],
   "source": []
  }
 ],
 "metadata": {
  "interpreter": {
   "hash": "e1f500c63928480d774878a0f07da46b956d5b7679a924523ceeabbfef458c5f"
  },
  "kernelspec": {
   "display_name": "Python 3.7.11 ('ds')",
   "language": "python",
   "name": "python3"
  },
  "language_info": {
   "codemirror_mode": {
    "name": "ipython",
    "version": 3
   },
   "file_extension": ".py",
   "mimetype": "text/x-python",
   "name": "python",
   "nbconvert_exporter": "python",
   "pygments_lexer": "ipython3",
   "version": "3.7.11"
  },
  "orig_nbformat": 4
 },
 "nbformat": 4,
 "nbformat_minor": 2
}
